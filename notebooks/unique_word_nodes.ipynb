{
 "cells": [
  {
   "cell_type": "code",
   "execution_count": 98,
   "id": "87c08848",
   "metadata": {},
   "outputs": [],
   "source": [
    "import time\n",
    "import json\n",
    "import re\n",
    "import csv\n",
    "import random\n",
    "from pymongo import MongoClient\n",
    "from utils import basic_parser, prep_definition_text, definition_word_counter\n",
    "from collections import Counter\n",
    "import spacy\n",
    "from nltk.stem import WordNetLemmatizer"
   ]
  },
  {
   "cell_type": "code",
   "execution_count": 99,
   "id": "e2ac63b1",
   "metadata": {},
   "outputs": [],
   "source": [
    "lemmatizer = WordNetLemmatizer()\n",
    "nlp = spacy.load(\"en_core_web_lg\")"
   ]
  },
  {
   "cell_type": "code",
   "execution_count": 2,
   "id": "2246a318",
   "metadata": {},
   "outputs": [],
   "source": [
    "# Database \n",
    "client = MongoClient()\n",
    "db = client.MerriamWebster\n",
    "collection = db.UpdatedMerriamWebsterDictionary"
   ]
  },
  {
   "cell_type": "code",
   "execution_count": 8,
   "id": "77f1fc31",
   "metadata": {},
   "outputs": [],
   "source": [
    "# Two Approaches, Testing their Speeds\n",
    "\n",
    "# First Approach\n",
    "# Assembling a List of all Words, Turning that into a set, and checking membership with in\n",
    "\n",
    "# Second Approach\n",
    "# Using MongoDB, find_one, if none then not in list (would only become competitive when checking for large amounts of memberships, asynchronously)"
   ]
  },
  {
   "cell_type": "code",
   "execution_count": 11,
   "id": "8010afe7",
   "metadata": {},
   "outputs": [],
   "source": [
    "# First Approach\n",
    "# Sets and Lists"
   ]
  },
  {
   "cell_type": "code",
   "execution_count": 83,
   "id": "fd95ccd0",
   "metadata": {},
   "outputs": [],
   "source": [
    "with open(\"./unique_words.txt\", \"r+\", encoding=\"utf-16\") as f:\n",
    "    unique_terms = f.readlines()\n",
    "    term_set = set(unique_terms)"
   ]
  },
  {
   "cell_type": "code",
   "execution_count": 23,
   "id": "732e34af",
   "metadata": {},
   "outputs": [
    {
     "name": "stdout",
     "output_type": "stream",
     "text": [
      "['intertie\\n', 'Pathein\\n', 'vestiment\\n', 'crise de conscience\\n', 'gemeled\\n', 'Haematobranchia\\n', 'adhesive binding\\n', 'subfragment\\n', 'Wappo\\n', 'seaworn\\n', 'bolt handle\\n', 'kettle of fish\\n', 'drawn butter\\n', 'garden flea\\n', 'scintillation counter\\n', 'Dutch-process\\n', 'pretension\\n', 'gravi-\\n', 'zeroth\\n', 'loja bark\\n', 'corbiestep\\n', 'anahau\\n', 'predicate\\n', 'pommel\\n', 'wit-cracker\\n', 'odori\\n', 'menthane\\n', 'missionize\\n', 'Apache trout\\n', 'translatorese\\n', 'sea tangle\\n', 'melilotus\\n', 'troop carrier\\n', 'hexulose\\n', 'toolmarking\\n', 'low-flung\\n', 'harbor porpoise\\n', 'pentahydroxy\\n', 'stingray\\n', 'whapuku\\n', 'radiophotograph\\n', 'hamadryad\\n', 'case-phrase\\n', 'Papilionidae\\n', 'siccative\\n', 'Sagittarius\\n', 'allostatic load\\n', 'curriery\\n', 'Maori\\n', 'cooba\\n', 'b-ball\\n', 'detached service\\n', 'drum scale\\n', 'woodcutting\\n', 'gnomonics\\n', 'Parcheesi\\n', 'lady-of-the-night\\n', 'restimulate\\n', 'crackiest\\n', 'clamaroo\\n', 'xi#g\\n', 'natal#g\\n', 'rose fever\\n', 'plow packer\\n', 'tub-size\\n', 'talent show\\n', 'Golan Heights\\n', 'purple cinquefoil\\n', 'Catesby\\n', 'reshelve\\n', 'wanky\\n', 'Cootamundra wattle\\n', 'piece-root grafting\\n', 'vestural\\n', 'rapture of the deep\\n', 'taxpaying\\n', 'UCL\\n', 'ponied\\n', 'juniper webworm\\n', 'postmeridian\\n', 'freedom of navigation\\n', 'Baltimore chop\\n', 'nitrogen chloride\\n', 'psychopath\\n', 'silver certificate\\n', 'entablatured\\n', 'rathite\\n', 'pillar root\\n', 'overseed\\n', 'thingy\\n', 'papilionid\\n', 'triose\\n', 'Colombard\\n', 'absinthe yellow\\n', 'applausive\\n', 'Pelasgic\\n', 'hardware cloth\\n', 'bell crown\\n', 'theology\\n', 'medicinal leech\\n']\n"
     ]
    }
   ],
   "source": [
    "random_words = random.sample(unique_words, 100)\n",
    "print(random_words)"
   ]
  },
  {
   "cell_type": "code",
   "execution_count": 74,
   "id": "4d3d6d8f",
   "metadata": {},
   "outputs": [
    {
     "name": "stdout",
     "output_type": "stream",
     "text": [
      "4.76609206199646\n",
      "Number of Words Searched:1200\n"
     ]
    }
   ],
   "source": [
    "start = time.time()\n",
    "initial_run = []\n",
    "words_searched = 0\n",
    "for random_word in random_words:\n",
    "    word = collection.find_one({\"word\": random_word})\n",
    "    definition = word[\"dictionary_definitions\"]\n",
    "    if definition: \n",
    "        parsed_definition = basic_parser(definition)\n",
    "        definition_counter = definition_word_counter(parsed_definition, remove_stopwords=False)\n",
    "        for word, count in definition_counter.items():\n",
    "            words_searched += 1\n",
    "            if f\"{word}\\n\" not in word_set:\n",
    "                initial_run.append(word)\n",
    "print(time.time() - start)\n",
    "print(\"Number of Words Searched:\" + str(words_searched))"
   ]
  },
  {
   "cell_type": "code",
   "execution_count": 76,
   "id": "e52dc65d",
   "metadata": {},
   "outputs": [
    {
     "data": {
      "text/plain": [
       "['interconnection',\n",
       " 'permitting',\n",
       " 'systems',\n",
       " 'myanmar',\n",
       " 'burma',\n",
       " 'irrawaddy',\n",
       " 'yangon',\n",
       " 'rangoon',\n",
       " '216000',\n",
       " 'paired',\n",
       " 'arthropods',\n",
       " 'consisting',\n",
       " 'trilobites',\n",
       " 'eurypterids',\n",
       " 'crabs',\n",
       " 'larger',\n",
       " 'indian',\n",
       " 'california',\n",
       " 'yukian',\n",
       " 'wappo',\n",
       " 'eaten',\n",
       " 'projecting',\n",
       " 'operated',\n",
       " 'affairs',\n",
       " 'dealt',\n",
       " 'melted',\n",
       " 'clarified',\n",
       " 'detecting',\n",
       " 'registering',\n",
       " 'scintillations',\n",
       " 'treated',\n",
       " 'pretentiousness',\n",
       " 'numbered',\n",
       " 'steps',\n",
       " 'philippine',\n",
       " 'livistona',\n",
       " 'rotundifolia',\n",
       " 'clubs',\n",
       " 'bowstrings',\n",
       " 'thatching',\n",
       " 'hats',\n",
       " 'fans',\n",
       " 'affirmed',\n",
       " 'denied',\n",
       " 'designating',\n",
       " 'expresses',\n",
       " 'consists',\n",
       " 'objects',\n",
       " 'complements',\n",
       " 'modifiers',\n",
       " 'removable',\n",
       " 'u-shaped',\n",
       " 'handles',\n",
       " 'makes',\n",
       " 'wisecracks',\n",
       " 'japanese',\n",
       " 'characterized',\n",
       " 'hydrocarbons',\n",
       " 'c10h20',\n",
       " 'hexahydro',\n",
       " 'derivatives',\n",
       " 'cymenes',\n",
       " 'terpenoids',\n",
       " 'deep-bodied',\n",
       " 'oncorhynchus',\n",
       " 'apache',\n",
       " 'inhabiting',\n",
       " 'streams',\n",
       " 'lakes',\n",
       " 'arizona',\n",
       " 'yellowish-brown',\n",
       " 'sides',\n",
       " 'spots',\n",
       " 'translator',\n",
       " 'translated',\n",
       " 'kelps',\n",
       " 'herbs',\n",
       " 'clovers',\n",
       " 'flowers',\n",
       " 'racemes',\n",
       " 'one-seeded',\n",
       " 'two-seeded',\n",
       " 'pods',\n",
       " 'naturalized',\n",
       " 'escapes',\n",
       " 'designed',\n",
       " 'supplies',\n",
       " 'c6h12o6',\n",
       " 'sorbose',\n",
       " 'containing',\n",
       " 'atoms',\n",
       " 'having',\n",
       " '2-position',\n",
       " 'figures',\n",
       " 'letters',\n",
       " 'symbols',\n",
       " 'low-down',\n",
       " 'phocoena',\n",
       " 'atlantic',\n",
       " 'oceans',\n",
       " 'whitish',\n",
       " 'undersides',\n",
       " 'ranges',\n",
       " '5',\n",
       " '6',\n",
       " '15',\n",
       " '18',\n",
       " 'meters',\n",
       " 'containing',\n",
       " 'groups',\n",
       " 'rays',\n",
       " 'dasyatidae',\n",
       " 'spines',\n",
       " 'whiplike',\n",
       " 'inflicting',\n",
       " 'wounds',\n",
       " 'polyprion',\n",
       " 'oxygeneios',\n",
       " 'zealand',\n",
       " 'closely',\n",
       " 'transmitted',\n",
       " 'nymph',\n",
       " 'prepositional',\n",
       " 'indicating',\n",
       " 'relations',\n",
       " 'indicated',\n",
       " 'compared',\n",
       " \"cow's\",\n",
       " 'papilionoidea',\n",
       " 'butterflies',\n",
       " 'pairs',\n",
       " 'sexes',\n",
       " 'larvae',\n",
       " 'osmeteria',\n",
       " 'pupae',\n",
       " 'causing',\n",
       " 'promoting',\n",
       " 'drying',\n",
       " 'zodiacal',\n",
       " 'pictured',\n",
       " 'containing',\n",
       " 'located',\n",
       " 'signs',\n",
       " 'sagittarius',\n",
       " 'occurs',\n",
       " 'subjected',\n",
       " 'stressors',\n",
       " 'currying',\n",
       " 'polynesian',\n",
       " 'zealand',\n",
       " 'maori',\n",
       " 'australian',\n",
       " 'salicina',\n",
       " 'resembling',\n",
       " \"one's\",\n",
       " 'assigned',\n",
       " 'producing',\n",
       " 'woodcuts',\n",
       " 'using',\n",
       " 'dials',\n",
       " 'sundials',\n",
       " '—used',\n",
       " 'indian',\n",
       " 'brunfelsia',\n",
       " 'americana',\n",
       " 'yellowish',\n",
       " 'flowers',\n",
       " '3a',\n",
       " '14th',\n",
       " 'greek',\n",
       " 'relating',\n",
       " \"one's\",\n",
       " 'occurring',\n",
       " 'containing',\n",
       " 'consisting',\n",
       " 'performances',\n",
       " 'singing',\n",
       " 'amateurs',\n",
       " 'israel',\n",
       " 'syria;',\n",
       " 'annexed',\n",
       " '1981',\n",
       " '1679?–1749',\n",
       " 'english',\n",
       " 'books',\n",
       " 'australian',\n",
       " 'baileyana',\n",
       " 'golden-yellow',\n",
       " 'flowers',\n",
       " 'parts',\n",
       " 'relating',\n",
       " 'relating',\n",
       " 'paying',\n",
       " 'ulnar',\n",
       " 'european',\n",
       " 'moths',\n",
       " 'phalonia',\n",
       " 'rutilana',\n",
       " 'dichomeris',\n",
       " 'introduced',\n",
       " 'america',\n",
       " 'devours',\n",
       " 'junipers',\n",
       " 'occurring',\n",
       " 'relating',\n",
       " 'recognized',\n",
       " 'treaties',\n",
       " 'agreements',\n",
       " 'vessels',\n",
       " 'states',\n",
       " 'streams',\n",
       " 'seas',\n",
       " 'batted',\n",
       " 'bounces',\n",
       " 'having',\n",
       " \"one's\",\n",
       " 'actions',\n",
       " 'others',\n",
       " 'tendencies',\n",
       " 'issued',\n",
       " 'possessions',\n",
       " 'having',\n",
       " 'pb13as18s40',\n",
       " 'consisting',\n",
       " 'occurring',\n",
       " 'crystals',\n",
       " '3',\n",
       " '54',\n",
       " 'existing',\n",
       " 'forgotten',\n",
       " 'relating',\n",
       " 'papilionidae',\n",
       " 'monosaccharides',\n",
       " 'c3h6o3',\n",
       " 'containing',\n",
       " 'atoms',\n",
       " 'french',\n",
       " 'greenish',\n",
       " 'slightly',\n",
       " 'stronger',\n",
       " 'darker',\n",
       " 'deeper',\n",
       " 'greener',\n",
       " 'duller',\n",
       " 'applaudable',\n",
       " 'expressing',\n",
       " 'pelasgian',\n",
       " 'shaped',\n",
       " 'inverted',\n",
       " \"god's\",\n",
       " 'system',\n",
       " '4-year',\n",
       " 'roman',\n",
       " 'european',\n",
       " 'hirudo',\n",
       " 'medicinalis',\n",
       " 'grafted',\n",
       " 'patients']"
      ]
     },
     "execution_count": 76,
     "metadata": {},
     "output_type": "execute_result"
    }
   ],
   "source": [
    "initial_run"
   ]
  },
  {
   "cell_type": "code",
   "execution_count": 77,
   "id": "36e6ea1b",
   "metadata": {},
   "outputs": [
    {
     "name": "stdout",
     "output_type": "stream",
     "text": [
      "20.007914066314697\n",
      "Number of Words Searched:620\n"
     ]
    }
   ],
   "source": [
    "start = time.time()\n",
    "capitalized_run = []\n",
    "words_searched = 0\n",
    "for word_lower in initial_run:\n",
    "    word = collection.find_one({\"word\": f\"{word_lower.capitalize()}\\n\"})\n",
    "    if word:\n",
    "        definition = word[\"dictionary_definitions\"]\n",
    "        if definition: \n",
    "            parsed_definition = basic_parser(definition)\n",
    "            definition_counter = definition_word_counter(parsed_definition, remove_stopwords=False)\n",
    "            for word, count in definition_counter.items():\n",
    "                words_searched += 1\n",
    "                if f\"{word}\\n\" not in word_set and f\"{word.capitalize()}\\n\" not in word_set:\n",
    "                    capitalized_run.append(word)\n",
    "print(time.time() - start)\n",
    "print(\"Number of Words Searched:\" + str(words_searched))"
   ]
  },
  {
   "cell_type": "code",
   "execution_count": 78,
   "id": "123ca321",
   "metadata": {},
   "outputs": [
    {
     "data": {
      "text/plain": [
       "125"
      ]
     },
     "execution_count": 78,
     "metadata": {},
     "output_type": "execute_result"
    }
   ],
   "source": [
    "len(capitalized_run)"
   ]
  },
  {
   "cell_type": "code",
   "execution_count": 79,
   "id": "1d101b67",
   "metadata": {},
   "outputs": [
    {
     "data": {
      "text/plain": [
       "['located',\n",
       " 'crossed',\n",
       " 'cancer;',\n",
       " 'naypyidaw',\n",
       " 'yangon',\n",
       " '261228',\n",
       " 'miles',\n",
       " '676578',\n",
       " 'kilometers',\n",
       " '55623000',\n",
       " '1300',\n",
       " 'miles',\n",
       " '2092',\n",
       " 'kilometers',\n",
       " 'burma',\n",
       " 'mouths',\n",
       " 'yangon',\n",
       " '2',\n",
       " 'languages',\n",
       " 'indians',\n",
       " \"nation's\",\n",
       " 'state;',\n",
       " '158706',\n",
       " 'miles',\n",
       " '411048',\n",
       " 'kilometers',\n",
       " '37253956',\n",
       " 'yukian',\n",
       " 'malaysian',\n",
       " 'palms',\n",
       " 'having',\n",
       " 'resembling',\n",
       " 'salmons',\n",
       " 'rays',\n",
       " 'branchiostegals',\n",
       " 'caeca',\n",
       " 'rakers',\n",
       " 'commercially',\n",
       " 'fishes',\n",
       " 'coastal',\n",
       " 'streams',\n",
       " 'peoples',\n",
       " 'languages',\n",
       " 'criminals',\n",
       " 'bordering',\n",
       " 'mexico;',\n",
       " '113909',\n",
       " 'miles',\n",
       " '296163',\n",
       " 'kilometers',\n",
       " '6392017',\n",
       " 'relating',\n",
       " 'nations',\n",
       " 'elasmobranchs',\n",
       " 'dasyatis',\n",
       " 'comprising',\n",
       " 'stingrays',\n",
       " 'including',\n",
       " 'butterflies',\n",
       " 'zodiacal',\n",
       " 'pictured',\n",
       " 'containing',\n",
       " 'located',\n",
       " 'signs',\n",
       " 'peoples',\n",
       " 'languages',\n",
       " 'zealand',\n",
       " 'relating',\n",
       " 'inhabitants',\n",
       " 'languages',\n",
       " 'biogeographic',\n",
       " 'comprises',\n",
       " 'islands',\n",
       " 'celebes',\n",
       " 'zealand',\n",
       " 'languages',\n",
       " 'indians',\n",
       " 'shrubs',\n",
       " 'solanaceae',\n",
       " 'commonly',\n",
       " 'greenhouses',\n",
       " 'flowers',\n",
       " 'materials',\n",
       " 'having',\n",
       " 'roots',\n",
       " 'greeks',\n",
       " 'constituting',\n",
       " 'indo-european',\n",
       " 'languages',\n",
       " 'earliest',\n",
       " 'records',\n",
       " 'greek-letter',\n",
       " '2',\n",
       " 'relating',\n",
       " 'relating',\n",
       " 'inhabitants',\n",
       " 'languages',\n",
       " 'biogeographic',\n",
       " 'comprises',\n",
       " 'islands',\n",
       " 'celebes',\n",
       " 'zealand',\n",
       " 'relating',\n",
       " '2',\n",
       " 'americas',\n",
       " 'ə-ˈmer-ə-kəz',\n",
       " '-ˈme-rə-',\n",
       " 'lands',\n",
       " 'including',\n",
       " '3',\n",
       " 'states',\n",
       " 'butterflies',\n",
       " 'pairs',\n",
       " 'sexes',\n",
       " 'larvae',\n",
       " 'osmeteria',\n",
       " 'pupae',\n",
       " 'relating',\n",
       " 'descendants',\n",
       " 'mentioned',\n",
       " 'writers',\n",
       " 'inhabitants',\n",
       " 'islands',\n",
       " 'letters',\n",
       " 'relating']"
      ]
     },
     "execution_count": 79,
     "metadata": {},
     "output_type": "execute_result"
    }
   ],
   "source": [
    "capitalized_run"
   ]
  },
  {
   "cell_type": "code",
   "execution_count": 80,
   "id": "34d4453d",
   "metadata": {},
   "outputs": [
    {
     "name": "stdout",
     "output_type": "stream",
     "text": [
      "8.602387189865112\n"
     ]
    }
   ],
   "source": [
    "def get_lemma(word) -> str:\n",
    "    doc = nlp(word)\n",
    "    return doc[0].lemma_ if doc else None\n",
    "\n",
    "start = time.time()\n",
    "lemmatized_run = []\n",
    "words_searched = 0\n",
    "for word in capitalized_run:\n",
    "    lemma = get_lemma(word)\n",
    "    if lemma:\n",
    "        word_doc = collection.find_one({\"word\": f\"{lemma}\\n\"})\n",
    "        if word_doc:\n",
    "            definition = word_doc[\"dictionary_definitions\"]\n",
    "            if definition: \n",
    "                parsed_definition = basic_parser(definition)\n",
    "                definition_counter = definition_word_counter(parsed_definition, remove_stopwords=False)\n",
    "                for word, count in definition_counter.items():\n",
    "                    words_searched += 1\n",
    "                    if f\"{word}\\n\" not in word_set and f\"{word.capitalize()}\\n\" not in word_set:\n",
    "                        lemmatized_run.append(word)\n",
    "print(time.time() - start)"
   ]
  },
  {
   "cell_type": "code",
   "execution_count": 81,
   "id": "f265b4e6",
   "metadata": {},
   "outputs": [],
   "source": [
    "# Combining the Bits of the First Approach"
   ]
  },
  {
   "cell_type": "code",
   "execution_count": 86,
   "id": "47233834",
   "metadata": {},
   "outputs": [],
   "source": [
    "# First Removing Terms, only words\n",
    "unique_words = [word for word in unique_terms if \" \" not in word]\n",
    "word_set = set(unique_words)"
   ]
  },
  {
   "cell_type": "code",
   "execution_count": 134,
   "id": "d9cbccd8",
   "metadata": {},
   "outputs": [
    {
     "name": "stdout",
     "output_type": "stream",
     "text": [
      "46.18916988372803\n",
      "500\n",
      "10358\n"
     ]
    }
   ],
   "source": [
    "start = time.time()\n",
    "failures = []\n",
    "actual_words = []\n",
    "\n",
    "for word in unique_words[:1000]:\n",
    "    word_doc = collection.find_one({\"word\": word})\n",
    "    definition = word_doc[\"dictionary_definitions\"]\n",
    "    if definition:\n",
    "        parsed_definition = basic_parser(definition)\n",
    "        definition_counter = definition_word_counter(parsed_definition, remove_stopwords=False)\n",
    "        for sub_word, count in definition_counter.items():\n",
    "            words_searched += 1\n",
    "            if f\"{sub_word}\\n\" not in word_set and f\"{sub_word.capitalize()}\\n\" not in word_set and f\"{lemmatizer.lemmatize(sub_word, 'v')}\\n\" not in word_set and f\"{get_lemma(sub_word)}\\n\" not in word_set:\n",
    "                failures.append(sub_word)\n",
    "            else:\n",
    "                actual_words.append(sub_word)\n",
    "print(time.time() - start)\n",
    "print(len(failures))\n",
    "print(len(actual_words))"
   ]
  },
  {
   "cell_type": "code",
   "execution_count": 135,
   "id": "4b8237cd",
   "metadata": {},
   "outputs": [
    {
     "name": "stdout",
     "output_type": "stream",
     "text": [
      "['insidiously', 'secretly', 'compactly', 'stainable', 'sender', '2', 'c21h19no5', 'papaveraceous', 'possessor', 'extremely', 'sabelloid', 'spirally', 'peninsular', 'distinguishable', 'mystical', '2', 'c18h18', 'abietic', 'manchuria;', '72201', '187723', '27452815', '2', 'yungki', 'ˈyu̇ŋ-ˈjē', '1470000', '4c', '2', '1b', '2', 'niger-congo', 'aquarians', 'progressively', 'nervously', 'indecisively', 'estat—whence', 'uo2', 'terpenoid', 'c10h16o', 'hydrogenation', 'allergenic', 'miner', 'appropriateness', 'gestational', 'babblers', '1877–1960', 'illustrator', 'münzer', 'c6h8n2o2s', 'quickly', '190132', 'asclepiades', '4-wheeled', '4', '2005', \"quebec's\", 'warty', 'pleural', 'medusoid', '2a', 'imaginatively', '2', '105', '32', 'habitually', 'tufted', 'densely', '478000', '2', '4b', 'plainly', 'tyrant', 'indolyl', 'bantu-speaking', 'tembuland', 'manipulation', \"shakespeare's\", 'con32', 'azide', 'suavity', 'brusqueness', '2', 'survivor', 'pyrrha', 'systematic', 'completely', 'forcibly', 'noisily', 'violently', 'harshly', 'bohemians', 'agreeably', '—a', 'filamentous', 'urginea', 'maritima', '2', 'sharply', 'recognizable', 'understandable', 'hypotremata', 'rapidly', 'pinnotheridae', 'sudanese', 'caudatum', '1937–38', 'winifred', 'clemence', 'juxtaposition', '91', 'intensely', 'ragfishes', 'indo-pacific', 'disazo', 'erling', '1943–', '—used', 'habitually', 'menstruous', 'realizable', '241386', 'melodic', 'plasmon', '154000', '1950s', '1960s', 'neo-impressionist', '1908–1991', 'paul-eugène-louis', '1855–1922', '1920', '1888–1963', 'hungarian-born', 'pb3cro42o?', '17th', '19th', 'caprimulgus', 'europaeus', 'systematic', 'commonly', 'setae', 'folliculinidae', 'higher', 'castela', 'texana', '1536–1608', '1st', '18th', '1b', '2', '1a', 'commonly', 'igneous', 'etc', '2', 'stylochidae', 'c10h7no2', '2-isomer', 'indirectly', '5', 'interrelation', 'algae', 'hyphal', 'jacker', 'c1', 'schlesingerultimately', 'newsome', 'moholi', 'congo-sudan', 'adamawa-eastern', 'rhomboidea', 'semitriloba', 'fiberlike', 'jute', '1889–1982', 'dactyloides', 'abnormally', 'interpretative', '3', '3b', 'sufism', 'mutually', 'breynia', 'nivosa', 'horticultural', 'athapaskan', 'descendible', 'portion29', 'synthetic-fiber', 'hornless', 'anoplotheriidae', 'iii', '242–187', 'bc', '223–187', 'iv', 'ectozoan', 'geographical', 'super-', 'angelichthys', 'ciliaris', 'preferentially', '1889–1957', 'cipriano', '1858–1924', 'venezuelan', '1902–08', '5', 'higher', 'triterpenoid', 'c30h48oh2', 'betula', 'alba', 'medes', 'persians', 'traditionally', '17th', 'eurylaimidae', 'myiagra', '1a', 'larval', 'wrongly', 'wrong', '4', '2', '1a', '2', '3', '4', '4', 'mysterious', 'tailless', 'encysted', 'fierceness', 'extremely', 'suddenly', 'vehemently', 'sporangia', 'spartans', '375500', 'eriocnemis', 'severely', 'blackdamp', 'serpulae', 'artificially', 'modestly', 'shyly', 'closely', '-carp', '3515361', 'gerhard', '1936–', 'secretarial', 'governmental', 'andrew', '1835–1919', 'scottish-born', '18th', 'bsche', '2', 'boldness', 'mnfepo4', '92', 'ind-', 'procreative', '18th', 'chalinidae', 'extremely', '1a3', 'inexperienced', 'obscurus', 'maurus', '1836–1886', 'phytoplanktonic', 'algae', 'ganglionated', 'miner', 'strictly', 'bateman', '1845–1933', 'ca2b6o1113h2o', '2', 'chrysophanic', 'carefully', 'concealment', 'congressional', 'france;', '77', '2', '30700', '975', 'medicaginis', 'ribis', 'actively', 'millionth', 'ouakaris', '3f', 'geologic', '2b', 'nyctaginaceae', 'brightly', 'ra*bin*dra*nath', 'rə-ˈbin-drə-ˌnät', '1861–1941', 'roguish', \"shakespeare's\", 'windsor', 'iv', 'australasian', '2-celled', 'synangia', 'systematically', 'humiliation', 'nervousness', 'h2wo4', '2', 'de-escalation', 'tethyidae', '2', 'humbly', 'ascomycetous', '2', 'philippine', 'grandiflorus', '2', 'konstantinos', '1913–1975', '…—vogue', '[ie', 'tattooing]—herman', '135', 'koziba', 'ˈsi-mē-ən-bär-ˈkȯ-zē-ˌbä', '—used', '2', 'sabellians', 'modalistic', 'monarchianism', 'celebration', 'eyebrows', 'naklial4be3b10o27', '8', '34', 'monocotyledonous', 'strikingly', 'josé', 'maría', 'de', '1842–1905', 'cuban-born', 'kafiristan', 'kush', '1844–1916', 'c3h3n3o2', 'allantoxanic', '5-imino-hydantoin', 'surgically', 'resectable', 'atp', 'wolfgang', 'amadeus', '1756–1791', 'austrian', 'electrical', '28500', '1849–1912', 'scyphozoa', 'broadly', 'simultaneously', 'interrelation', 'penicillata', 'outpassing', '…—elsa', 'keslassy', 'traditionally', 'kwa', 'niger-congo', 'togo', 'bryozoans', 'zooecia', 'widemouthed', 'eupatorium', 'perfoliatum', 'witotoan', '436–338', 'bc', 'athenian', '3053', '930', 'canidae', 'extremely', '5', '36', 'non-european', 'conversational', 'roofless', '607', '738', '185', '225', 'soemmerringii', 'torpidity', 'christians', 'laterally', '2', 'possessor', '1881–1958', 'ccl3cho', 'ddt', 'mythology', '3', '×', '5', 'photographically', '9th', '15th', '215055', 'zoologist', 'sagami', 'yokohama', '174000', 'simultaneously', 'meteorologic', '−', '÷', 'higher', 'synthesis', 'merovingians', '6th', '8th', 'cnh2n−1', '2-butenyl', 'ch3chchch2−', '1a', 'goldenrain', 'cu4so43oh24h2o', 'leguminosae', 'cautiously', '48926', 'rapidly', 'traditionally', 'selectivity', 'c10h16', '220', '201', '4473', '11586', '2364000', 'eduard', 'leopold', 'von', '1815–1898', 'bismarck-schönhausen', '-shœn-ˈhau̇-zᵊn', '1st', '1871–90', '2', 'moas', 'moderation', 'system', 'igneous', 'closely', '2', '225089', '¹/₁₀₀₀', 'conspicuously', 'de', '1626–1696', 'rabutin-chantal', 'writer', 'syzygium', 'smithii', 'eugenia', 'sharpness', 'correspondingly', 'quotation', '1644', '14th', '15th', '16th', '71', '742', 'turkestan', '383197', 'bodh', 'alleviation', 'commonly', 'logginovich', '1839–1917', 'russian', '1906;', '1914–16', '2', '51–579', '85–999', '2702500', 'politeness', 'decorousness', 'yuman', 'higher']\n"
     ]
    }
   ],
   "source": [
    "print(failures)"
   ]
  },
  {
   "cell_type": "code",
   "execution_count": 141,
   "id": "8b1d0866",
   "metadata": {},
   "outputs": [
    {
     "name": "stdout",
     "output_type": "stream",
     "text": [
      "algae\n",
      "0.004003047943115234\n"
     ]
    }
   ],
   "source": [
    "def get_lemma(word) -> str:\n",
    "    doc = nlp(word)\n",
    "    return doc[0].lemma_ if doc else None\n",
    "start = time.time()\n",
    "print(get_lemma(\"algae\"))\n",
    "print(time.time() - start)"
   ]
  },
  {
   "cell_type": "code",
   "execution_count": 140,
   "id": "d10c6606",
   "metadata": {},
   "outputs": [
    {
     "name": "stdout",
     "output_type": "stream",
     "text": [
      "algae\n",
      "0.0\n"
     ]
    }
   ],
   "source": [
    "start = time.time()\n",
    "print(lemmatizer.lemmatize(\"algae\", 'v'))\n",
    "print(time.time() - start)"
   ]
  },
  {
   "cell_type": "code",
   "execution_count": null,
   "id": "65e2372a",
   "metadata": {},
   "outputs": [],
   "source": []
  }
 ],
 "metadata": {
  "kernelspec": {
   "display_name": "Python 3 (ipykernel)",
   "language": "python",
   "name": "python3"
  },
  "language_info": {
   "codemirror_mode": {
    "name": "ipython",
    "version": 3
   },
   "file_extension": ".py",
   "mimetype": "text/x-python",
   "name": "python",
   "nbconvert_exporter": "python",
   "pygments_lexer": "ipython3",
   "version": "3.10.5"
  }
 },
 "nbformat": 4,
 "nbformat_minor": 5
}
