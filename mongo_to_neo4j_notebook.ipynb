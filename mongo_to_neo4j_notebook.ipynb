{
 "cells": [
  {
   "cell_type": "code",
   "execution_count": 1,
   "id": "b0636fe5",
   "metadata": {},
   "outputs": [],
   "source": [
    "# Standard Library\n",
    "import time\n",
    "import csv\n",
    "from collections import Counter\n",
    "import random\n",
    "\n",
    "# Third-Party Libraries\n",
    "import pandas as pd\n",
    "import numpy as np\n",
    "import spacy\n",
    "from nltk.stem import WordNetLemmatizer\n",
    "\n",
    "# Custom Libraries\n",
    "from utils import definition_word_counter, basic_parser"
   ]
  },
  {
   "cell_type": "code",
   "execution_count": 2,
   "id": "e7f98fd0",
   "metadata": {},
   "outputs": [],
   "source": [
    "nlp = spacy.load(\"en_core_web_sm\")\n",
    "lemmatizer = WordNetLemmatizer()"
   ]
  },
  {
   "cell_type": "markdown",
   "id": "ce20aa07",
   "metadata": {},
   "source": [
    "## Importing and Cleaning MongoDB Data"
   ]
  },
  {
   "cell_type": "code",
   "execution_count": 3,
   "id": "aebccef8",
   "metadata": {},
   "outputs": [],
   "source": [
    "df = pd.read_csv(\"./data/UpdatedMerriamWebsterDictionaryCSV.csv\")"
   ]
  },
  {
   "cell_type": "code",
   "execution_count": 4,
   "id": "58b8acb2",
   "metadata": {},
   "outputs": [
    {
     "data": {
      "text/html": [
       "<div>\n",
       "<style scoped>\n",
       "    .dataframe tbody tr th:only-of-type {\n",
       "        vertical-align: middle;\n",
       "    }\n",
       "\n",
       "    .dataframe tbody tr th {\n",
       "        vertical-align: top;\n",
       "    }\n",
       "\n",
       "    .dataframe thead th {\n",
       "        text-align: right;\n",
       "    }\n",
       "</style>\n",
       "<table border=\"1\" class=\"dataframe\">\n",
       "  <thead>\n",
       "    <tr style=\"text-align: right;\">\n",
       "      <th></th>\n",
       "      <th>_id</th>\n",
       "      <th>dictionary_definitions</th>\n",
       "      <th>part_of_speech</th>\n",
       "      <th>pronunciation</th>\n",
       "      <th>syllables</th>\n",
       "      <th>word</th>\n",
       "    </tr>\n",
       "  </thead>\n",
       "  <tbody>\n",
       "    <tr>\n",
       "      <th>0</th>\n",
       "      <td>63a5c2e55e1fcf636f29eee4</td>\n",
       "      <td>\\n\\n\\nCentral Polynesia \\n\\n\\n\\n\\n\\n\\n\\n: kava...</td>\n",
       "      <td>noun</td>\n",
       "      <td>\\nˈ(ʔ)ävə\\n</td>\n",
       "      <td>[\"'ava\\n\"]</td>\n",
       "      <td>'ava\\n</td>\n",
       "    </tr>\n",
       "    <tr>\n",
       "      <th>1</th>\n",
       "      <td>63a5c2e55e1fcf636f29eee5</td>\n",
       "      <td>NaN</td>\n",
       "      <td>NaN</td>\n",
       "      <td>NaN</td>\n",
       "      <td>[\"'avas\\n\"]</td>\n",
       "      <td>'avas\\n</td>\n",
       "    </tr>\n",
       "    <tr>\n",
       "      <th>2</th>\n",
       "      <td>63a5c2e55e1fcf636f29eee6</td>\n",
       "      <td>\\n\\n\\n\\n\\n\\n\\n: because\\n\\n\\n \\n\\n\\n</td>\n",
       "      <td>conjunction</td>\n",
       "      <td>ˈkȯz</td>\n",
       "      <td>[\"'cause\\n\"]</td>\n",
       "      <td>'cause\\n</td>\n",
       "    </tr>\n",
       "    <tr>\n",
       "      <th>3</th>\n",
       "      <td>63a5c2e55e1fcf636f29eee7</td>\n",
       "      <td>\\n\\n\\n\\n\\n\\n\\n: them\\n\\n\\n \\n\\n\\n</td>\n",
       "      <td>pronoun</td>\n",
       "      <td>\\nəm;\\n after  p,\\nb,\\nf,\\n or  v,\\n often  ᵊm\\n</td>\n",
       "      <td>[\"'em\\n\"]</td>\n",
       "      <td>'em\\n</td>\n",
       "    </tr>\n",
       "    <tr>\n",
       "      <th>4</th>\n",
       "      <td>63a5c2e55e1fcf636f29eee8</td>\n",
       "      <td>\\n\\n\\n\\n\\n\\n\\n: afro\\nThe '70s were certainly ...</td>\n",
       "      <td>noun</td>\n",
       "      <td>ˈfrō</td>\n",
       "      <td>[\"'fro\\n\"]</td>\n",
       "      <td>'fro\\n</td>\n",
       "    </tr>\n",
       "  </tbody>\n",
       "</table>\n",
       "</div>"
      ],
      "text/plain": [
       "                        _id  \\\n",
       "0  63a5c2e55e1fcf636f29eee4   \n",
       "1  63a5c2e55e1fcf636f29eee5   \n",
       "2  63a5c2e55e1fcf636f29eee6   \n",
       "3  63a5c2e55e1fcf636f29eee7   \n",
       "4  63a5c2e55e1fcf636f29eee8   \n",
       "\n",
       "                              dictionary_definitions part_of_speech  \\\n",
       "0  \\n\\n\\nCentral Polynesia \\n\\n\\n\\n\\n\\n\\n\\n: kava...           noun   \n",
       "1                                                NaN            NaN   \n",
       "2               \\n\\n\\n\\n\\n\\n\\n: because\\n\\n\\n \\n\\n\\n    conjunction   \n",
       "3                  \\n\\n\\n\\n\\n\\n\\n: them\\n\\n\\n \\n\\n\\n        pronoun   \n",
       "4  \\n\\n\\n\\n\\n\\n\\n: afro\\nThe '70s were certainly ...           noun   \n",
       "\n",
       "                                      pronunciation     syllables      word  \n",
       "0                                       \\nˈ(ʔ)ävə\\n    [\"'ava\\n\"]    'ava\\n  \n",
       "1                                               NaN   [\"'avas\\n\"]   'avas\\n  \n",
       "2                                             ˈkȯz   [\"'cause\\n\"]  'cause\\n  \n",
       "3  \\nəm;\\n after  p,\\nb,\\nf,\\n or  v,\\n often  ᵊm\\n     [\"'em\\n\"]     'em\\n  \n",
       "4                                             ˈfrō     [\"'fro\\n\"]    'fro\\n  "
      ]
     },
     "execution_count": 4,
     "metadata": {},
     "output_type": "execute_result"
    }
   ],
   "source": [
    "df.head()"
   ]
  },
  {
   "cell_type": "code",
   "execution_count": 5,
   "id": "2555c2f1",
   "metadata": {},
   "outputs": [],
   "source": [
    "# Normalizing the words that were part of the Geographical or Biographical Dictionary\n",
    "def normalize_word(word: str):\n",
    "    return word.strip().replace(\"#g\", \"\").replace(\"#b\", \"\").lower()\n",
    "unique_words = set(df.word.transform(normalize_word))"
   ]
  },
  {
   "cell_type": "code",
   "execution_count": 6,
   "id": "6ad9e690",
   "metadata": {},
   "outputs": [],
   "source": [
    "df[\"word\"] = df.word.transform(normalize_word)"
   ]
  },
  {
   "cell_type": "code",
   "execution_count": 7,
   "id": "f133bc1b",
   "metadata": {},
   "outputs": [
    {
     "data": {
      "text/html": [
       "<div>\n",
       "<style scoped>\n",
       "    .dataframe tbody tr th:only-of-type {\n",
       "        vertical-align: middle;\n",
       "    }\n",
       "\n",
       "    .dataframe tbody tr th {\n",
       "        vertical-align: top;\n",
       "    }\n",
       "\n",
       "    .dataframe thead th {\n",
       "        text-align: right;\n",
       "    }\n",
       "</style>\n",
       "<table border=\"1\" class=\"dataframe\">\n",
       "  <thead>\n",
       "    <tr style=\"text-align: right;\">\n",
       "      <th></th>\n",
       "      <th>_id</th>\n",
       "      <th>dictionary_definitions</th>\n",
       "      <th>part_of_speech</th>\n",
       "      <th>pronunciation</th>\n",
       "      <th>syllables</th>\n",
       "      <th>word</th>\n",
       "    </tr>\n",
       "  </thead>\n",
       "  <tbody>\n",
       "    <tr>\n",
       "      <th>0</th>\n",
       "      <td>63a5c2e55e1fcf636f29eee4</td>\n",
       "      <td>\\n\\n\\nCentral Polynesia \\n\\n\\n\\n\\n\\n\\n\\n: kava...</td>\n",
       "      <td>noun</td>\n",
       "      <td>\\nˈ(ʔ)ävə\\n</td>\n",
       "      <td>[\"'ava\\n\"]</td>\n",
       "      <td>'ava</td>\n",
       "    </tr>\n",
       "    <tr>\n",
       "      <th>1</th>\n",
       "      <td>63a5c2e55e1fcf636f29eee5</td>\n",
       "      <td>NaN</td>\n",
       "      <td>NaN</td>\n",
       "      <td>NaN</td>\n",
       "      <td>[\"'avas\\n\"]</td>\n",
       "      <td>'avas</td>\n",
       "    </tr>\n",
       "    <tr>\n",
       "      <th>2</th>\n",
       "      <td>63a5c2e55e1fcf636f29eee6</td>\n",
       "      <td>\\n\\n\\n\\n\\n\\n\\n: because\\n\\n\\n \\n\\n\\n</td>\n",
       "      <td>conjunction</td>\n",
       "      <td>ˈkȯz</td>\n",
       "      <td>[\"'cause\\n\"]</td>\n",
       "      <td>'cause</td>\n",
       "    </tr>\n",
       "    <tr>\n",
       "      <th>3</th>\n",
       "      <td>63a5c2e55e1fcf636f29eee7</td>\n",
       "      <td>\\n\\n\\n\\n\\n\\n\\n: them\\n\\n\\n \\n\\n\\n</td>\n",
       "      <td>pronoun</td>\n",
       "      <td>\\nəm;\\n after  p,\\nb,\\nf,\\n or  v,\\n often  ᵊm\\n</td>\n",
       "      <td>[\"'em\\n\"]</td>\n",
       "      <td>'em</td>\n",
       "    </tr>\n",
       "    <tr>\n",
       "      <th>4</th>\n",
       "      <td>63a5c2e55e1fcf636f29eee8</td>\n",
       "      <td>\\n\\n\\n\\n\\n\\n\\n: afro\\nThe '70s were certainly ...</td>\n",
       "      <td>noun</td>\n",
       "      <td>ˈfrō</td>\n",
       "      <td>[\"'fro\\n\"]</td>\n",
       "      <td>'fro</td>\n",
       "    </tr>\n",
       "  </tbody>\n",
       "</table>\n",
       "</div>"
      ],
      "text/plain": [
       "                        _id  \\\n",
       "0  63a5c2e55e1fcf636f29eee4   \n",
       "1  63a5c2e55e1fcf636f29eee5   \n",
       "2  63a5c2e55e1fcf636f29eee6   \n",
       "3  63a5c2e55e1fcf636f29eee7   \n",
       "4  63a5c2e55e1fcf636f29eee8   \n",
       "\n",
       "                              dictionary_definitions part_of_speech  \\\n",
       "0  \\n\\n\\nCentral Polynesia \\n\\n\\n\\n\\n\\n\\n\\n: kava...           noun   \n",
       "1                                                NaN            NaN   \n",
       "2               \\n\\n\\n\\n\\n\\n\\n: because\\n\\n\\n \\n\\n\\n    conjunction   \n",
       "3                  \\n\\n\\n\\n\\n\\n\\n: them\\n\\n\\n \\n\\n\\n        pronoun   \n",
       "4  \\n\\n\\n\\n\\n\\n\\n: afro\\nThe '70s were certainly ...           noun   \n",
       "\n",
       "                                      pronunciation     syllables    word  \n",
       "0                                       \\nˈ(ʔ)ävə\\n    [\"'ava\\n\"]    'ava  \n",
       "1                                               NaN   [\"'avas\\n\"]   'avas  \n",
       "2                                             ˈkȯz   [\"'cause\\n\"]  'cause  \n",
       "3  \\nəm;\\n after  p,\\nb,\\nf,\\n or  v,\\n often  ᵊm\\n     [\"'em\\n\"]     'em  \n",
       "4                                             ˈfrō     [\"'fro\\n\"]    'fro  "
      ]
     },
     "execution_count": 7,
     "metadata": {},
     "output_type": "execute_result"
    }
   ],
   "source": [
    "df.head()"
   ]
  },
  {
   "cell_type": "code",
   "execution_count": 9,
   "id": "b9d29610",
   "metadata": {},
   "outputs": [],
   "source": [
    "df = df[df.dictionary_definitions.notnull()]"
   ]
  },
  {
   "cell_type": "code",
   "execution_count": 11,
   "id": "e3211b52",
   "metadata": {},
   "outputs": [],
   "source": [
    "df[\"parsed_definitions\"] = df.dictionary_definitions.transform(basic_parser)"
   ]
  },
  {
   "cell_type": "code",
   "execution_count": 12,
   "id": "b955c129",
   "metadata": {
    "scrolled": true
   },
   "outputs": [
    {
     "data": {
      "text/html": [
       "<div>\n",
       "<style scoped>\n",
       "    .dataframe tbody tr th:only-of-type {\n",
       "        vertical-align: middle;\n",
       "    }\n",
       "\n",
       "    .dataframe tbody tr th {\n",
       "        vertical-align: top;\n",
       "    }\n",
       "\n",
       "    .dataframe thead th {\n",
       "        text-align: right;\n",
       "    }\n",
       "</style>\n",
       "<table border=\"1\" class=\"dataframe\">\n",
       "  <thead>\n",
       "    <tr style=\"text-align: right;\">\n",
       "      <th></th>\n",
       "      <th>_id</th>\n",
       "      <th>dictionary_definitions</th>\n",
       "      <th>part_of_speech</th>\n",
       "      <th>pronunciation</th>\n",
       "      <th>syllables</th>\n",
       "      <th>word</th>\n",
       "      <th>parsed_definitions</th>\n",
       "    </tr>\n",
       "  </thead>\n",
       "  <tbody>\n",
       "    <tr>\n",
       "      <th>0</th>\n",
       "      <td>63a5c2e55e1fcf636f29eee4</td>\n",
       "      <td>\\n\\n\\nCentral Polynesia \\n\\n\\n\\n\\n\\n\\n\\n: kava...</td>\n",
       "      <td>noun</td>\n",
       "      <td>\\nˈ(ʔ)ävə\\n</td>\n",
       "      <td>[\"'ava\\n\"]</td>\n",
       "      <td>'ava</td>\n",
       "      <td>kava</td>\n",
       "    </tr>\n",
       "    <tr>\n",
       "      <th>2</th>\n",
       "      <td>63a5c2e55e1fcf636f29eee6</td>\n",
       "      <td>\\n\\n\\n\\n\\n\\n\\n: because\\n\\n\\n \\n\\n\\n</td>\n",
       "      <td>conjunction</td>\n",
       "      <td>ˈkȯz</td>\n",
       "      <td>[\"'cause\\n\"]</td>\n",
       "      <td>'cause</td>\n",
       "      <td>because</td>\n",
       "    </tr>\n",
       "    <tr>\n",
       "      <th>3</th>\n",
       "      <td>63a5c2e55e1fcf636f29eee7</td>\n",
       "      <td>\\n\\n\\n\\n\\n\\n\\n: them\\n\\n\\n \\n\\n\\n</td>\n",
       "      <td>pronoun</td>\n",
       "      <td>\\nəm;\\n after  p,\\nb,\\nf,\\n or  v,\\n often  ᵊm\\n</td>\n",
       "      <td>[\"'em\\n\"]</td>\n",
       "      <td>'em</td>\n",
       "      <td>them</td>\n",
       "    </tr>\n",
       "    <tr>\n",
       "      <th>4</th>\n",
       "      <td>63a5c2e55e1fcf636f29eee8</td>\n",
       "      <td>\\n\\n\\n\\n\\n\\n\\n: afro\\nThe '70s were certainly ...</td>\n",
       "      <td>noun</td>\n",
       "      <td>ˈfrō</td>\n",
       "      <td>[\"'fro\\n\"]</td>\n",
       "      <td>'fro</td>\n",
       "      <td>afro from dr j's hindenburg-sized 'fro to howa...</td>\n",
       "    </tr>\n",
       "    <tr>\n",
       "      <th>5</th>\n",
       "      <td>63a5c2e55e1fcf636f29eee9</td>\n",
       "      <td>\\n\\n\\n\\n\\n\\n\\n: will\\nyou'll be late\\n\\n\\n \\n\\n\\n</td>\n",
       "      <td>verb</td>\n",
       "      <td>\\nl,\\nəl,\\nᵊl\\n</td>\n",
       "      <td>[\"'ll\\n\"]</td>\n",
       "      <td>'ll</td>\n",
       "      <td>will</td>\n",
       "    </tr>\n",
       "  </tbody>\n",
       "</table>\n",
       "</div>"
      ],
      "text/plain": [
       "                        _id  \\\n",
       "0  63a5c2e55e1fcf636f29eee4   \n",
       "2  63a5c2e55e1fcf636f29eee6   \n",
       "3  63a5c2e55e1fcf636f29eee7   \n",
       "4  63a5c2e55e1fcf636f29eee8   \n",
       "5  63a5c2e55e1fcf636f29eee9   \n",
       "\n",
       "                              dictionary_definitions part_of_speech  \\\n",
       "0  \\n\\n\\nCentral Polynesia \\n\\n\\n\\n\\n\\n\\n\\n: kava...           noun   \n",
       "2               \\n\\n\\n\\n\\n\\n\\n: because\\n\\n\\n \\n\\n\\n    conjunction   \n",
       "3                  \\n\\n\\n\\n\\n\\n\\n: them\\n\\n\\n \\n\\n\\n        pronoun   \n",
       "4  \\n\\n\\n\\n\\n\\n\\n: afro\\nThe '70s were certainly ...           noun   \n",
       "5  \\n\\n\\n\\n\\n\\n\\n: will\\nyou'll be late\\n\\n\\n \\n\\n\\n           verb   \n",
       "\n",
       "                                      pronunciation     syllables    word  \\\n",
       "0                                       \\nˈ(ʔ)ävə\\n    [\"'ava\\n\"]    'ava   \n",
       "2                                             ˈkȯz   [\"'cause\\n\"]  'cause   \n",
       "3  \\nəm;\\n after  p,\\nb,\\nf,\\n or  v,\\n often  ᵊm\\n     [\"'em\\n\"]     'em   \n",
       "4                                             ˈfrō     [\"'fro\\n\"]    'fro   \n",
       "5                                   \\nl,\\nəl,\\nᵊl\\n     [\"'ll\\n\"]     'll   \n",
       "\n",
       "                                  parsed_definitions  \n",
       "0                                               kava  \n",
       "2                                            because  \n",
       "3                                               them  \n",
       "4  afro from dr j's hindenburg-sized 'fro to howa...  \n",
       "5                                               will  "
      ]
     },
     "execution_count": 12,
     "metadata": {},
     "output_type": "execute_result"
    }
   ],
   "source": [
    "df.head()"
   ]
  },
  {
   "cell_type": "code",
   "execution_count": 13,
   "id": "874fdd6a",
   "metadata": {},
   "outputs": [],
   "source": [
    "df.reset_index(inplace=True)"
   ]
  },
  {
   "cell_type": "markdown",
   "id": "01cc1eea",
   "metadata": {},
   "source": [
    "## Transforming MongoDB Data to Graph Data"
   ]
  },
  {
   "cell_type": "code",
   "execution_count": 14,
   "id": "064afff8",
   "metadata": {},
   "outputs": [],
   "source": [
    "def prep_graph_rows(word: str, parsed_definition_text: str) -> list[list]: \n",
    "    definition_counter = definition_word_counter(parsed_definition_text, remove_stopwords=False)\n",
    "    \n",
    "    return [[word.strip(), sub_word, count] for sub_word, count in definition_counter.items()]"
   ]
  },
  {
   "cell_type": "code",
   "execution_count": 15,
   "id": "a237fa0d",
   "metadata": {},
   "outputs": [
    {
     "data": {
      "text/plain": [
       "(245423, 8)"
      ]
     },
     "execution_count": 15,
     "metadata": {},
     "output_type": "execute_result"
    }
   ],
   "source": [
    "df.shape"
   ]
  },
  {
   "cell_type": "code",
   "execution_count": 16,
   "id": "4831505d",
   "metadata": {},
   "outputs": [],
   "source": [
    "rows = []\n",
    "for i in range(df.shape[0]):\n",
    "    rows.extend(prep_graph_rows(df.loc[i][\"word\"], df.loc[i][\"parsed_definitions\"]))"
   ]
  },
  {
   "cell_type": "code",
   "execution_count": 17,
   "id": "156c230d",
   "metadata": {},
   "outputs": [],
   "source": [
    "# word, word_in_definition\n",
    "graph_df = pd.DataFrame(columns=[\"word\", \"word_in_definition\", \"count\"], data=rows)"
   ]
  },
  {
   "cell_type": "code",
   "execution_count": 18,
   "id": "4318a325",
   "metadata": {
    "scrolled": true
   },
   "outputs": [
    {
     "data": {
      "text/plain": [
       "(3063845, 3)"
      ]
     },
     "execution_count": 18,
     "metadata": {},
     "output_type": "execute_result"
    }
   ],
   "source": [
    "graph_df.shape"
   ]
  },
  {
   "cell_type": "code",
   "execution_count": 19,
   "id": "72fc537a",
   "metadata": {
    "scrolled": true
   },
   "outputs": [
    {
     "data": {
      "text/html": [
       "<div>\n",
       "<style scoped>\n",
       "    .dataframe tbody tr th:only-of-type {\n",
       "        vertical-align: middle;\n",
       "    }\n",
       "\n",
       "    .dataframe tbody tr th {\n",
       "        vertical-align: top;\n",
       "    }\n",
       "\n",
       "    .dataframe thead th {\n",
       "        text-align: right;\n",
       "    }\n",
       "</style>\n",
       "<table border=\"1\" class=\"dataframe\">\n",
       "  <thead>\n",
       "    <tr style=\"text-align: right;\">\n",
       "      <th></th>\n",
       "      <th>word</th>\n",
       "      <th>word_in_definition</th>\n",
       "      <th>count</th>\n",
       "    </tr>\n",
       "  </thead>\n",
       "  <tbody>\n",
       "    <tr>\n",
       "      <th>0</th>\n",
       "      <td>'ava</td>\n",
       "      <td>kava</td>\n",
       "      <td>1</td>\n",
       "    </tr>\n",
       "    <tr>\n",
       "      <th>1</th>\n",
       "      <td>'cause</td>\n",
       "      <td>because</td>\n",
       "      <td>1</td>\n",
       "    </tr>\n",
       "    <tr>\n",
       "      <th>2</th>\n",
       "      <td>'em</td>\n",
       "      <td>them</td>\n",
       "      <td>1</td>\n",
       "    </tr>\n",
       "    <tr>\n",
       "      <th>3</th>\n",
       "      <td>'fro</td>\n",
       "      <td>afro</td>\n",
       "      <td>1</td>\n",
       "    </tr>\n",
       "    <tr>\n",
       "      <th>4</th>\n",
       "      <td>'fro</td>\n",
       "      <td>from</td>\n",
       "      <td>1</td>\n",
       "    </tr>\n",
       "  </tbody>\n",
       "</table>\n",
       "</div>"
      ],
      "text/plain": [
       "     word word_in_definition  count\n",
       "0    'ava               kava      1\n",
       "1  'cause            because      1\n",
       "2     'em               them      1\n",
       "3    'fro               afro      1\n",
       "4    'fro               from      1"
      ]
     },
     "execution_count": 19,
     "metadata": {},
     "output_type": "execute_result"
    }
   ],
   "source": [
    "graph_df.head()"
   ]
  },
  {
   "cell_type": "markdown",
   "id": "18cb8e65",
   "metadata": {},
   "source": [
    "## Assembling Lemma Dict"
   ]
  },
  {
   "cell_type": "code",
   "execution_count": 20,
   "id": "33ef7c2d",
   "metadata": {},
   "outputs": [],
   "source": [
    "def get_lemma(word: str) -> str:\n",
    "    doc = nlp(word)\n",
    "    return doc[0].lemma_ if doc else None"
   ]
  },
  {
   "cell_type": "code",
   "execution_count": 22,
   "id": "63a8d696",
   "metadata": {},
   "outputs": [],
   "source": [
    "unique_word_in_def = list(graph_df.word_in_definition.unique())"
   ]
  },
  {
   "cell_type": "code",
   "execution_count": 23,
   "id": "b50a619d",
   "metadata": {
    "scrolled": true
   },
   "outputs": [
    {
     "data": {
      "text/plain": [
       "133087"
      ]
     },
     "execution_count": 23,
     "metadata": {},
     "output_type": "execute_result"
    }
   ],
   "source": [
    "len(unique_word_in_def)"
   ]
  },
  {
   "cell_type": "code",
   "execution_count": 24,
   "id": "2bc8fbbf",
   "metadata": {},
   "outputs": [],
   "source": [
    "words_in_def_to_lemmatize = [word for word in unique_word_in_def if word not in unique_words]"
   ]
  },
  {
   "cell_type": "code",
   "execution_count": 25,
   "id": "d644a349",
   "metadata": {},
   "outputs": [
    {
     "data": {
      "text/plain": [
       "73533"
      ]
     },
     "execution_count": 25,
     "metadata": {},
     "output_type": "execute_result"
    }
   ],
   "source": [
    "len(words_in_def_to_lemmatize)"
   ]
  },
  {
   "cell_type": "code",
   "execution_count": 26,
   "id": "6a2ef25b",
   "metadata": {
    "scrolled": true
   },
   "outputs": [
    {
     "name": "stdout",
     "output_type": "stream",
     "text": [
      "186.84618473052979\n"
     ]
    }
   ],
   "source": [
    "# Creating a Dict for Mapping Words to their Lemmas\n",
    "start = time.time()\n",
    "word_to_word_lemmas = {}\n",
    "for word in words_in_def_to_lemmatize:\n",
    "    word_lemma = get_lemma(word)\n",
    "    if word_lemma: word_to_word_lemmas[word] = word_lemma\n",
    "print(time.time() - start)"
   ]
  },
  {
   "cell_type": "code",
   "execution_count": 27,
   "id": "0a87b5f9",
   "metadata": {},
   "outputs": [],
   "source": [
    "clean_graph_df = graph_df.copy()"
   ]
  },
  {
   "cell_type": "code",
   "execution_count": 28,
   "id": "c819c10c",
   "metadata": {},
   "outputs": [
    {
     "data": {
      "text/html": [
       "<div>\n",
       "<style scoped>\n",
       "    .dataframe tbody tr th:only-of-type {\n",
       "        vertical-align: middle;\n",
       "    }\n",
       "\n",
       "    .dataframe tbody tr th {\n",
       "        vertical-align: top;\n",
       "    }\n",
       "\n",
       "    .dataframe thead th {\n",
       "        text-align: right;\n",
       "    }\n",
       "</style>\n",
       "<table border=\"1\" class=\"dataframe\">\n",
       "  <thead>\n",
       "    <tr style=\"text-align: right;\">\n",
       "      <th></th>\n",
       "      <th>word</th>\n",
       "      <th>word_in_definition</th>\n",
       "      <th>count</th>\n",
       "    </tr>\n",
       "  </thead>\n",
       "  <tbody>\n",
       "    <tr>\n",
       "      <th>0</th>\n",
       "      <td>'ava</td>\n",
       "      <td>kava</td>\n",
       "      <td>1</td>\n",
       "    </tr>\n",
       "    <tr>\n",
       "      <th>1</th>\n",
       "      <td>'cause</td>\n",
       "      <td>because</td>\n",
       "      <td>1</td>\n",
       "    </tr>\n",
       "    <tr>\n",
       "      <th>2</th>\n",
       "      <td>'em</td>\n",
       "      <td>them</td>\n",
       "      <td>1</td>\n",
       "    </tr>\n",
       "    <tr>\n",
       "      <th>3</th>\n",
       "      <td>'fro</td>\n",
       "      <td>afro</td>\n",
       "      <td>1</td>\n",
       "    </tr>\n",
       "    <tr>\n",
       "      <th>4</th>\n",
       "      <td>'fro</td>\n",
       "      <td>from</td>\n",
       "      <td>1</td>\n",
       "    </tr>\n",
       "  </tbody>\n",
       "</table>\n",
       "</div>"
      ],
      "text/plain": [
       "     word word_in_definition  count\n",
       "0    'ava               kava      1\n",
       "1  'cause            because      1\n",
       "2     'em               them      1\n",
       "3    'fro               afro      1\n",
       "4    'fro               from      1"
      ]
     },
     "execution_count": 28,
     "metadata": {},
     "output_type": "execute_result"
    }
   ],
   "source": [
    "graph_df.head()"
   ]
  },
  {
   "cell_type": "code",
   "execution_count": 40,
   "id": "18d78060",
   "metadata": {},
   "outputs": [],
   "source": [
    "split_clean_df = np.array_split(clean_graph_df, 12)"
   ]
  },
  {
   "cell_type": "code",
   "execution_count": 44,
   "id": "3dc6de26",
   "metadata": {
    "scrolled": true
   },
   "outputs": [
    {
     "data": {
      "text/plain": [
       "12"
      ]
     },
     "execution_count": 44,
     "metadata": {},
     "output_type": "execute_result"
    }
   ],
   "source": [
    "len(split_clean_df)"
   ]
  },
  {
   "cell_type": "markdown",
   "id": "1a2f8ec1",
   "metadata": {},
   "source": [
    "## Mapping Words to their Lemmas"
   ]
  },
  {
   "cell_type": "code",
   "execution_count": 41,
   "id": "db66f265",
   "metadata": {},
   "outputs": [],
   "source": [
    "# Attempting to build a function to replace replace with map\n",
    "\n",
    "def swap_with_lemma(word: str) -> str:\n",
    "    try:\n",
    "        return word_to_word_lemmas[word]\n",
    "    except KeyError:\n",
    "        return word"
   ]
  },
  {
   "cell_type": "code",
   "execution_count": 45,
   "id": "f7135cf6",
   "metadata": {},
   "outputs": [
    {
     "name": "stdout",
     "output_type": "stream",
     "text": [
      "4.6946022510528564\n"
     ]
    }
   ],
   "source": [
    "start = time.time()\n",
    "for index, split_df in enumerate(split_clean_df):\n",
    "    split_df[\"word_in_definition\"] = split_df.word_in_definition.map(swap_with_lemma)\n",
    "    split_df.to_csv(f\"clean_graph_df_partition_{index}.csv\")\n",
    "print(time.time() - start)"
   ]
  },
  {
   "cell_type": "code",
   "execution_count": 48,
   "id": "29e12106",
   "metadata": {},
   "outputs": [],
   "source": [
    "clean_graph_df[\"word_in_definition\"] = clean_graph_df.word_in_definition.map(swap_with_lemma)"
   ]
  },
  {
   "cell_type": "markdown",
   "id": "1da0c132",
   "metadata": {},
   "source": [
    "## Saving the Data"
   ]
  },
  {
   "cell_type": "code",
   "execution_count": 49,
   "id": "7c2a793a",
   "metadata": {},
   "outputs": [],
   "source": [
    "clean_graph_df.to_csv(\"clean_graph_df_full.csv\")"
   ]
  },
  {
   "cell_type": "code",
   "execution_count": 39,
   "id": "cf46b980",
   "metadata": {},
   "outputs": [],
   "source": [
    "split_clean_df[4].to_csv(\"clean_graph_df_partition_4.csv\")"
   ]
  },
  {
   "cell_type": "code",
   "execution_count": 56,
   "id": "aa72b06e",
   "metadata": {},
   "outputs": [],
   "source": [
    "graph_df_no_terms = clean_graph_df[clean_graph_df.word.str.contains(\"\\s\") == False]"
   ]
  },
  {
   "cell_type": "code",
   "execution_count": 59,
   "id": "d5d5330c",
   "metadata": {},
   "outputs": [],
   "source": [
    "graph_df_no_terms.to_csv(\"clean_graph_df_no_terms.csv\")"
   ]
  },
  {
   "cell_type": "code",
   "execution_count": 201,
   "id": "fe4add0f",
   "metadata": {},
   "outputs": [
    {
     "data": {
      "text/html": [
       "<div>\n",
       "<style scoped>\n",
       "    .dataframe tbody tr th:only-of-type {\n",
       "        vertical-align: middle;\n",
       "    }\n",
       "\n",
       "    .dataframe tbody tr th {\n",
       "        vertical-align: top;\n",
       "    }\n",
       "\n",
       "    .dataframe thead th {\n",
       "        text-align: right;\n",
       "    }\n",
       "</style>\n",
       "<table border=\"1\" class=\"dataframe\">\n",
       "  <thead>\n",
       "    <tr style=\"text-align: right;\">\n",
       "      <th></th>\n",
       "      <th>word</th>\n",
       "      <th>word_in_definition</th>\n",
       "      <th>count</th>\n",
       "    </tr>\n",
       "  </thead>\n",
       "  <tbody>\n",
       "    <tr>\n",
       "      <th>0</th>\n",
       "      <td>'ava</td>\n",
       "      <td>kava</td>\n",
       "      <td>1</td>\n",
       "    </tr>\n",
       "    <tr>\n",
       "      <th>1</th>\n",
       "      <td>'cause</td>\n",
       "      <td>because</td>\n",
       "      <td>1</td>\n",
       "    </tr>\n",
       "    <tr>\n",
       "      <th>2</th>\n",
       "      <td>'em</td>\n",
       "      <td>them</td>\n",
       "      <td>1</td>\n",
       "    </tr>\n",
       "    <tr>\n",
       "      <th>3</th>\n",
       "      <td>'fro</td>\n",
       "      <td>afro</td>\n",
       "      <td>1</td>\n",
       "    </tr>\n",
       "    <tr>\n",
       "      <th>4</th>\n",
       "      <td>'fro</td>\n",
       "      <td>from</td>\n",
       "      <td>1</td>\n",
       "    </tr>\n",
       "  </tbody>\n",
       "</table>\n",
       "</div>"
      ],
      "text/plain": [
       "     word word_in_definition  count\n",
       "0    'ava               kava      1\n",
       "1  'cause            because      1\n",
       "2     'em               them      1\n",
       "3    'fro               afro      1\n",
       "4    'fro               from      1"
      ]
     },
     "execution_count": 201,
     "metadata": {},
     "output_type": "execute_result"
    }
   ],
   "source": [
    "clean_graph_df.head()"
   ]
  },
  {
   "cell_type": "markdown",
   "id": "5ed132c9",
   "metadata": {},
   "source": [
    "## Creating Node Data"
   ]
  },
  {
   "cell_type": "code",
   "execution_count": 98,
   "id": "9152244e",
   "metadata": {},
   "outputs": [],
   "source": [
    "all_words = set(list(clean_graph_df.word) + list(clean_graph_df.word_in_definition))"
   ]
  },
  {
   "cell_type": "code",
   "execution_count": 60,
   "id": "e95aad22",
   "metadata": {},
   "outputs": [],
   "source": [
    "# All Words and Terms\n",
    "\n",
    "all_words_terms = set(list(clean_graph_df.word) + list(clean_graph_df.word_in_definition))\n",
    "\n",
    "# All Words only\n",
    "\n",
    "all_words = set(list(graph_df_no_terms.word) + list(graph_df_no_terms.word_in_definition))"
   ]
  },
  {
   "cell_type": "code",
   "execution_count": 62,
   "id": "fda317ca",
   "metadata": {},
   "outputs": [],
   "source": [
    "all_words_terms_series = pd.Series(list(all_words_terms))"
   ]
  },
  {
   "cell_type": "code",
   "execution_count": 63,
   "id": "cced7c33",
   "metadata": {},
   "outputs": [],
   "source": [
    "all_words_series = pd.Series(list(all_words))"
   ]
  },
  {
   "cell_type": "code",
   "execution_count": 64,
   "id": "fd6d136f",
   "metadata": {},
   "outputs": [],
   "source": [
    "all_words_terms_series.to_csv(\"word_term_nodes.csv\")"
   ]
  },
  {
   "cell_type": "code",
   "execution_count": 65,
   "id": "4bae5229",
   "metadata": {},
   "outputs": [],
   "source": [
    "all_words_series.to_csv(\"word_nodes.csv\")"
   ]
  },
  {
   "cell_type": "code",
   "execution_count": null,
   "id": "5a3dfe09",
   "metadata": {},
   "outputs": [],
   "source": []
  }
 ],
 "metadata": {
  "kernelspec": {
   "display_name": "Python 3 (ipykernel)",
   "language": "python",
   "name": "python3"
  },
  "language_info": {
   "codemirror_mode": {
    "name": "ipython",
    "version": 3
   },
   "file_extension": ".py",
   "mimetype": "text/x-python",
   "name": "python",
   "nbconvert_exporter": "python",
   "pygments_lexer": "ipython3",
   "version": "3.10.5"
  }
 },
 "nbformat": 4,
 "nbformat_minor": 5
}
