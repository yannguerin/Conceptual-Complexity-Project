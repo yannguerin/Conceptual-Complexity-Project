{
 "cells": [
  {
   "cell_type": "code",
   "execution_count": 61,
   "id": "9258ebf9",
   "metadata": {},
   "outputs": [],
   "source": [
    "import asyncio\n",
    "import time\n",
    "from motor.motor_asyncio import AsyncIOMotorClient\n",
    "asyncio.set_event_loop_policy(asyncio.WindowsSelectorEventLoopPolicy())\n",
    "from utils import prep_definition_text, basic_parser\n",
    "#from database_management import async_get_word_data, get_word_definition_words"
   ]
  },
  {
   "cell_type": "code",
   "execution_count": 62,
   "id": "26336f97",
   "metadata": {},
   "outputs": [],
   "source": [
    "client = AsyncIOMotorClient()\n",
    "db = client.MerriamWebster\n",
    "collection = db.UpdatedMerriamWebsterDictionary"
   ]
  },
  {
   "cell_type": "code",
   "execution_count": 63,
   "id": "61f59f9c",
   "metadata": {},
   "outputs": [],
   "source": [
    "async def async_get_word_data(word: str) -> dict:\n",
    "    word_data = await collection.find_one({'word': f\"{word}\\n\"})\n",
    "    return word_data\n",
    "\n",
    "\n",
    "async def get_word_definition_words(word_data: dict) -> list:\n",
    "    tasks = []\n",
    "    words_data_in_definition = []\n",
    "    words_in_definition = prep_definition_text(\n",
    "        basic_parser(word_data[\"dictionary_definitions\"]))\n",
    "    for word in words_in_definition:\n",
    "        tasks.append(async_get_word_data(word))\n",
    "    words_data_in_definition = await asyncio.gather(*tasks)\n",
    "    return words_data_in_definition"
   ]
  },
  {
   "cell_type": "code",
   "execution_count": 64,
   "id": "d2e0927f",
   "metadata": {},
   "outputs": [],
   "source": [
    "run = await async_get_word_data(\"run\")"
   ]
  },
  {
   "cell_type": "code",
   "execution_count": 60,
   "id": "be7cdfff",
   "metadata": {},
   "outputs": [
    {
     "data": {
      "text/plain": [
       "{'_id': ObjectId('63a62d1a5e1fcf636f2cf599'),\n",
       " 'word': 'run\\n',\n",
       " 'part_of_speech': 'verb',\n",
       " 'syllables': ['run\\n'],\n",
       " 'pronunciation': 'ˈrən\\xa0',\n",
       " 'dictionary_definitions': '\\n\\nintransitive verb\\n\\n1 \\n\\n\\na\\n\\n\\n: to go faster than a walk\\n\\n\\nspecifically\\n: to go steadily by springing steps so that both feet leave the ground for an instant in each step\\n \\n \\n\\n\\nb\\n\\nof a horse \\n\\n: to move at a fast gallop\\n\\n\\n \\n\\n\\nc\\n\\n\\n: flee, retreat, escape\\ndropped the gun and ran\\n\\n\\n \\n\\n\\nd\\n\\n\\n: to utilize a running play on offense\\n\\n—used of a football team\\n\\n\\n \\n\\n \\n\\n2 \\n\\n\\na\\n\\n\\n: to go without restraint : move freely about at will\\nlet chickens run loose\\n\\n\\n \\n\\n\\nb\\n\\n\\n: to keep company : consort\\na ram running with ewes ran with a wild crowd when he was young\\n\\n\\n \\n\\n\\nc\\n\\n\\n: to sail before the wind in distinction from reaching or sailing close-hauled\\n\\n\\n \\n\\n\\nd\\n\\n\\n: roam, rove\\nrunning about with no overcoat\\n\\n\\n \\n\\n \\n\\n3 \\n\\n\\na\\n\\n\\n: to go rapidly or hurriedly : hasten\\nrun and fetch the doctor\\n\\n\\n \\n\\n\\nb\\n\\n\\n: to go in urgency or distress : resort\\nruns to mother at every little difficulty\\n\\n\\n \\n\\n\\nc\\n\\n\\n: to make a quick, easy, or casual trip or visit\\nran over to borrow some sugar\\n\\n\\n \\n\\n \\n\\n4 \\n\\n\\na\\n\\n\\n: to contend in a race\\n\\n\\n \\n\\n\\nb\\n\\n\\n: to enter into an election contest\\nwill run for mayor\\n\\n\\n \\n\\n \\n\\n5 \\n\\n\\na\\n\\n\\n: to move on or as if on wheels : glide\\nfile drawers running on ball bearings\\n\\n\\n \\n\\n\\nb\\n\\n\\n: to roll forward rapidly or freely\\n\\n\\n \\n\\n\\nc\\n\\n\\n: to pass or slide freely\\na rope runs through the pulley\\n\\n\\n \\n\\n\\nd\\n\\n\\n: to ravel lengthwise\\nstockings guaranteed not to run\\n\\n\\n \\n\\n \\n\\n6 \\n\\n\\n\\n\\n\\n: to sing or play a musical passage quickly\\nrun up the scale\\n\\n\\n \\n\\n \\n\\n7 \\n\\n\\na\\n\\n\\n: to go back and forth : ply\\nthe train runs between New York and Washington\\n\\n\\n \\n\\n\\nb\\n\\nof fish \\n\\n: to migrate or move in considerable numbers\\n\\n\\nespecially\\n: to move up or down a river to spawn\\n \\n \\n\\n \\n\\n8 \\n\\n\\na\\n\\n\\n: turn, rotate\\na swiftly running grindstone\\n\\n\\n \\n\\n\\nb\\n\\n\\n: function, operate\\nthe engine runs on gasoline software that runs on her computer\\n\\n\\n \\n\\n \\n\\n9 \\n\\n\\n\\n\\na(1)\\n\\n\\n: to continue in force, operation, or production\\nthe contract has two more years to run the play ran for six months\\n\\n\\n \\n(2)\\n\\n\\n: to have a specified duration, extent, or length\\nthe manuscript runs nearly 500 pages\\n\\n\\n \\n \\n\\n\\nb\\n\\n\\n: to accompany as a valid obligation or right\\na right-of-way that runs with the land\\n\\n\\n \\n\\n\\nc\\n\\n\\n: to continue to accrue or become payable\\ninterest on the loan runs from July 1\\n\\n\\n \\n\\n \\n\\n10 \\n\\n\\n\\n\\n\\n: to pass from one state to another\\nrun into debt\\n\\n\\n \\n\\n \\n\\n11 \\n\\n\\na\\n\\n\\n: to flow rapidly or under pressure\\n\\n\\n \\n\\n\\nb\\n\\n\\n: melt, fuse\\n\\n\\n \\n\\n\\nc\\n\\n\\n: spread, dissolve\\ncolors guaranteed not to run\\n\\n\\n \\n\\n\\nd\\n\\n\\n: to discharge liquid (such as pus or serum)\\na running sore\\n\\n\\n \\n\\n \\n\\n12 \\n\\n\\na\\n\\n\\n: to develop rapidly in some specific direction\\n\\n\\nespecially\\n: to throw out an elongated shoot of growth\\n \\n \\n\\n\\nb\\n\\n\\n: to tend to produce or develop a specified quality or feature\\nthey run to big noses in that family\\n\\n\\n \\n\\n \\n\\n13 \\n\\n\\na\\n\\n\\n: to lie in or take a certain direction\\nthe boundary line runs east\\n\\n\\n \\n\\n\\nb\\n\\n\\n: to lie or extend in relation to something\\n\\n\\n \\n\\n\\nc\\n\\n\\n: to go back : reach\\n\\n\\n \\n\\n\\n\\n\\nd(1)\\n\\n\\n: to be in a certain form or expression\\nthe letter runs as follows\\n\\n\\n \\n(2)\\n\\n\\n: to be in a certain order of succession\\n\\n\\n \\n \\n\\n \\n\\n14 \\n\\n\\na\\n\\n\\n: to occur persistently\\nmusical talent runs in the family\\n\\n\\n \\n\\n\\n\\n\\nb(1)\\n\\n\\n: to remain of a specified size, amount, character, or quality\\nprofits were running high\\n\\n\\n \\n(2)\\n\\n\\n: to have or maintain a relative position or condition (as in a race)\\nran third running late\\n\\n\\n \\n \\n\\n\\nc\\n\\n\\n: to exist or occur in a continuous range of variation\\nshades run from white to dark gray\\n\\n\\n \\n\\n \\n\\n15 \\n\\n\\na\\n\\n\\n: to spread or pass quickly from point to point\\nchills ran up her spine\\n\\n\\n \\n\\n\\nb\\n\\n\\n: to be current : circulate\\nspeculation ran rife\\n\\n\\n \\n\\n \\n'}"
      ]
     },
     "execution_count": 60,
     "metadata": {},
     "output_type": "execute_result"
    }
   ],
   "source": [
    "run"
   ]
  },
  {
   "cell_type": "code",
   "execution_count": 51,
   "id": "c4813d6c",
   "metadata": {},
   "outputs": [
    {
     "data": {
      "text/plain": [
       "143"
      ]
     },
     "execution_count": 51,
     "metadata": {},
     "output_type": "execute_result"
    }
   ],
   "source": [
    "len(prep_definition_text(basic_parser(run[\"dictionary_definitions\"])))"
   ]
  },
  {
   "cell_type": "code",
   "execution_count": 52,
   "id": "8334b544",
   "metadata": {},
   "outputs": [
    {
     "ename": "TypeError",
     "evalue": "object dict can't be used in 'await' expression",
     "output_type": "error",
     "traceback": [
      "\u001b[1;31m---------------------------------------------------------------------------\u001b[0m",
      "\u001b[1;31mTypeError\u001b[0m                                 Traceback (most recent call last)",
      "Cell \u001b[1;32mIn[52], line 2\u001b[0m\n\u001b[0;32m      1\u001b[0m start \u001b[38;5;241m=\u001b[39m time\u001b[38;5;241m.\u001b[39mtime()\n\u001b[1;32m----> 2\u001b[0m run_words \u001b[38;5;241m=\u001b[39m \u001b[38;5;28;01mawait\u001b[39;00m get_word_definition_words(run)\n\u001b[0;32m      3\u001b[0m \u001b[38;5;28mprint\u001b[39m(time\u001b[38;5;241m.\u001b[39mtime() \u001b[38;5;241m-\u001b[39m start)\n",
      "File \u001b[1;32m~\\Desktop\\Programming Projects\\Conceptual Complexity Graph\\dash_cytoscape_prototype\\database_management.py:61\u001b[0m, in \u001b[0;36mget_word_definition_words\u001b[1;34m(word_data)\u001b[0m\n\u001b[0;32m     58\u001b[0m words_in_definition \u001b[38;5;241m=\u001b[39m prep_definition_text(\n\u001b[0;32m     59\u001b[0m     basic_parser(word_data[\u001b[38;5;124m\"\u001b[39m\u001b[38;5;124mdictionary_definitions\u001b[39m\u001b[38;5;124m\"\u001b[39m]))\n\u001b[0;32m     60\u001b[0m \u001b[38;5;28;01mfor\u001b[39;00m word \u001b[38;5;129;01min\u001b[39;00m words_in_definition:\n\u001b[1;32m---> 61\u001b[0m     tasks\u001b[38;5;241m.\u001b[39mappend(async_get_word_data(word))\n\u001b[0;32m     62\u001b[0m words_data_in_definition \u001b[38;5;241m=\u001b[39m \u001b[38;5;28;01mawait\u001b[39;00m asyncio\u001b[38;5;241m.\u001b[39mgather(\u001b[38;5;241m*\u001b[39mtasks)\n\u001b[0;32m     63\u001b[0m \u001b[38;5;28;01mreturn\u001b[39;00m words_data_in_definition\n",
      "File \u001b[1;32m~\\Desktop\\Programming Projects\\Conceptual Complexity Graph\\dash_cytoscape_prototype\\database_management.py:50\u001b[0m, in \u001b[0;36masync_get_word_data\u001b[1;34m(word)\u001b[0m\n\u001b[0;32m     49\u001b[0m \u001b[38;5;28;01masync\u001b[39;00m \u001b[38;5;28;01mdef\u001b[39;00m \u001b[38;5;21masync_get_word_data\u001b[39m(word: \u001b[38;5;28mstr\u001b[39m) \u001b[38;5;241m-\u001b[39m\u001b[38;5;241m>\u001b[39m \u001b[38;5;28mdict\u001b[39m:\n\u001b[1;32m---> 50\u001b[0m     word_data \u001b[38;5;241m=\u001b[39m \u001b[38;5;28;01mawait\u001b[39;00m collection\u001b[38;5;241m.\u001b[39mfind_one({\u001b[38;5;124m'\u001b[39m\u001b[38;5;124mword\u001b[39m\u001b[38;5;124m'\u001b[39m: \u001b[38;5;124mf\u001b[39m\u001b[38;5;124m\"\u001b[39m\u001b[38;5;132;01m{\u001b[39;00mword\u001b[38;5;132;01m}\u001b[39;00m\u001b[38;5;130;01m\\n\u001b[39;00m\u001b[38;5;124m\"\u001b[39m})\n\u001b[0;32m     51\u001b[0m     \u001b[38;5;28;01mreturn\u001b[39;00m word_data\n",
      "\u001b[1;31mTypeError\u001b[0m: object dict can't be used in 'await' expression"
     ]
    }
   ],
   "source": [
    "start = time.time()\n",
    "run_words = await get_word_definition_words(run)\n",
    "print(time.time() - start)"
   ]
  },
  {
   "cell_type": "code",
   "execution_count": null,
   "id": "3e6bf6a7",
   "metadata": {},
   "outputs": [],
   "source": []
  },
  {
   "cell_type": "code",
   "execution_count": null,
   "id": "1ff8f52e",
   "metadata": {},
   "outputs": [],
   "source": [
    "run"
   ]
  },
  {
   "cell_type": "code",
   "execution_count": null,
   "id": "6c7f31a1",
   "metadata": {},
   "outputs": [],
   "source": []
  }
 ],
 "metadata": {
  "kernelspec": {
   "display_name": "Python 3 (ipykernel)",
   "language": "python",
   "name": "python3"
  },
  "language_info": {
   "codemirror_mode": {
    "name": "ipython",
    "version": 3
   },
   "file_extension": ".py",
   "mimetype": "text/x-python",
   "name": "python",
   "nbconvert_exporter": "python",
   "pygments_lexer": "ipython3",
   "version": "3.10.5"
  }
 },
 "nbformat": 4,
 "nbformat_minor": 5
}
