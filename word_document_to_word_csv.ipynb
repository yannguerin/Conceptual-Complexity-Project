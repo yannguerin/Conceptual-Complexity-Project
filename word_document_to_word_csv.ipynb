{
 "cells": [
  {
   "cell_type": "code",
   "execution_count": 76,
   "id": "340ccf44",
   "metadata": {},
   "outputs": [],
   "source": [
    "import time\n",
    "import json\n",
    "import re\n",
    "import csv\n",
    "from motor.motor_asyncio import AsyncIOMotorClient\n",
    "from utils import prep_definition_text, definition_word_counter\n",
    "from collections import Counter\n",
    "import asyncio\n",
    "asyncio.set_event_loop_policy(asyncio.WindowsSelectorEventLoopPolicy())"
   ]
  },
  {
   "cell_type": "code",
   "execution_count": 77,
   "id": "f21d45cb",
   "metadata": {},
   "outputs": [],
   "source": [
    "def basic_parser(full_definition: str) -> str:\n",
    "    \"\"\"Parses a Word's full definition, removes unwanted characters and parts such as example usage.\n",
    "\n",
    "    Args:\n",
    "        full_definition (str): The full definition text of a Word, to be parsed\n",
    "\n",
    "    Returns:\n",
    "        str: a basic parsed string, removes the tags for splitting definitions as well as some special characters\n",
    "    \"\"\"\n",
    "    cleaned = \"\"\n",
    "    cleaned = re.findall(\":.+\\\\n\", full_definition)\n",
    "    cleaned = ''.join([definition.strip() for definition in cleaned])\n",
    "    # cleaned = re.sub(\":|,|\\.|\\(|\\)\", \"\", cleaned).strip()\n",
    "    cleaned = cleaned.replace(':', '').replace(',', '').replace(\n",
    "        '.', '').replace('(', '').replace(')', '').strip()\n",
    "    return cleaned.lower()"
   ]
  },
  {
   "cell_type": "code",
   "execution_count": 78,
   "id": "00e36adb",
   "metadata": {},
   "outputs": [],
   "source": [
    "with open(\"../word_sample.txt\", \"r+\", encoding=\"utf-16\") as f:\n",
    "    words = f.readlines()"
   ]
  },
  {
   "cell_type": "code",
   "execution_count": 79,
   "id": "8f0efb73",
   "metadata": {
    "scrolled": true
   },
   "outputs": [],
   "source": [
    "# Database \n",
    "client = AsyncIOMotorClient()\n",
    "db = client.MerriamWebster\n",
    "collection = db.UpdatedMerriamWebsterDictionary"
   ]
  },
  {
   "cell_type": "code",
   "execution_count": 81,
   "id": "58f6f3fe",
   "metadata": {},
   "outputs": [],
   "source": [
    "def find_and_prep_word(word: str) -> Counter:\n",
    "    definition = \"\"\n",
    "    definition = collection.find_one({\"word\": word})[\"dictionary_definitions\"]\n",
    "    cleaned_definition = basic_parser(definition)\n",
    "    definition_counter = definition_word_counter(cleaned_definition, remove_stopwords=True)\n",
    "    return definition_counter\n",
    "\n",
    "def prep_rows(word: str) -> list[list]:\n",
    "    rows = []\n",
    "    definition_counter = find_and_prep_word(word)\n",
    "    for sub_word, count in definition_counter.items():\n",
    "        rows.append([word.strip(), sub_word, count])\n",
    "    return rows\n",
    "\n",
    "async def find_and_prep_async(word: str) -> Counter:\n",
    "    definition = \"\"\n",
    "    definition = await collection.find_one({\"word\": word})[\"dictionary_definitions\"]\n",
    "    if not definition: return None\n",
    "    cleaned_definition = basic_parser(definition)\n",
    "    definition_counter = definition_word_counter(cleaned_definition, remove_stopwords=False)\n",
    "    return definition_counter\n",
    "\n",
    "async def prep_rows_async(word: str) -> list[list]:\n",
    "    rows = []\n",
    "    definition_counter = await find_and_prep_async(word)\n",
    "    if definition_counter:\n",
    "        rows = [[word.strip(), sub_word, count] for sub_word, count in definition_counter.items()]\n",
    "        return rows\n",
    "    else:\n",
    "        return None\n",
    "\n",
    "async def make_tasks(words: list[str]):\n",
    "    list_of_rows = []\n",
    "    tasks = []\n",
    "    for word in words:\n",
    "        rows_to_write = await asyncio.create_task(prep_rows_async(word))\n",
    "        tasks.append(rows_to_write)\n",
    "    list_of_rows = await asyncio.gather(*tasks)\n",
    "    return list_of_rows\n",
    "\n",
    "async def main(words: list[str]):\n",
    "    all_rows = await make_tasks(words)\n",
    "    return all_rows"
   ]
  },
  {
   "cell_type": "code",
   "execution_count": 82,
   "id": "33d5a6fb",
   "metadata": {},
   "outputs": [
    {
     "ename": "RuntimeError",
     "evalue": "asyncio.run() cannot be called from a running event loop",
     "output_type": "error",
     "traceback": [
      "\u001b[1;31m---------------------------------------------------------------------------\u001b[0m",
      "\u001b[1;31mRuntimeError\u001b[0m                              Traceback (most recent call last)",
      "Cell \u001b[1;32mIn[82], line 1\u001b[0m\n\u001b[1;32m----> 1\u001b[0m all_rows \u001b[38;5;241m=\u001b[39m \u001b[43masyncio\u001b[49m\u001b[38;5;241;43m.\u001b[39;49m\u001b[43mrun\u001b[49m\u001b[43m(\u001b[49m\u001b[43mmain\u001b[49m\u001b[43m(\u001b[49m\u001b[43mwords\u001b[49m\u001b[43m[\u001b[49m\u001b[43m:\u001b[49m\u001b[38;5;241;43m100\u001b[39;49m\u001b[43m]\u001b[49m\u001b[43m)\u001b[49m\u001b[43m)\u001b[49m\n\u001b[0;32m      2\u001b[0m \u001b[38;5;28mprint\u001b[39m(all_rows)\n",
      "File \u001b[1;32m~\\AppData\\Local\\Programs\\Python\\Python310\\lib\\asyncio\\runners.py:33\u001b[0m, in \u001b[0;36mrun\u001b[1;34m(main, debug)\u001b[0m\n\u001b[0;32m      9\u001b[0m \u001b[38;5;124;03m\"\"\"Execute the coroutine and return the result.\u001b[39;00m\n\u001b[0;32m     10\u001b[0m \n\u001b[0;32m     11\u001b[0m \u001b[38;5;124;03mThis function runs the passed coroutine, taking care of\u001b[39;00m\n\u001b[1;32m   (...)\u001b[0m\n\u001b[0;32m     30\u001b[0m \u001b[38;5;124;03m    asyncio.run(main())\u001b[39;00m\n\u001b[0;32m     31\u001b[0m \u001b[38;5;124;03m\"\"\"\u001b[39;00m\n\u001b[0;32m     32\u001b[0m \u001b[38;5;28;01mif\u001b[39;00m events\u001b[38;5;241m.\u001b[39m_get_running_loop() \u001b[38;5;129;01mis\u001b[39;00m \u001b[38;5;129;01mnot\u001b[39;00m \u001b[38;5;28;01mNone\u001b[39;00m:\n\u001b[1;32m---> 33\u001b[0m     \u001b[38;5;28;01mraise\u001b[39;00m \u001b[38;5;167;01mRuntimeError\u001b[39;00m(\n\u001b[0;32m     34\u001b[0m         \u001b[38;5;124m\"\u001b[39m\u001b[38;5;124masyncio.run() cannot be called from a running event loop\u001b[39m\u001b[38;5;124m\"\u001b[39m)\n\u001b[0;32m     36\u001b[0m \u001b[38;5;28;01mif\u001b[39;00m \u001b[38;5;129;01mnot\u001b[39;00m coroutines\u001b[38;5;241m.\u001b[39miscoroutine(main):\n\u001b[0;32m     37\u001b[0m     \u001b[38;5;28;01mraise\u001b[39;00m \u001b[38;5;167;01mValueError\u001b[39;00m(\u001b[38;5;124m\"\u001b[39m\u001b[38;5;124ma coroutine was expected, got \u001b[39m\u001b[38;5;132;01m{!r}\u001b[39;00m\u001b[38;5;124m\"\u001b[39m\u001b[38;5;241m.\u001b[39mformat(main))\n",
      "\u001b[1;31mRuntimeError\u001b[0m: asyncio.run() cannot be called from a running event loop"
     ]
    }
   ],
   "source": [
    "all_rows = asyncio.run(main(words[:100]))\n",
    "print(all_rows)"
   ]
  },
  {
   "cell_type": "code",
   "execution_count": 68,
   "id": "f4a07229",
   "metadata": {
    "scrolled": true
   },
   "outputs": [
    {
     "name": "stdout",
     "output_type": "stream",
     "text": [
      "Ushak\n",
      "\n",
      "Macrochiroptera\n",
      "\n",
      "nokkelost\n",
      "\n",
      "hallen\n",
      "\n",
      "septavalent\n",
      "\n",
      "Homobasidiomycetidae\n",
      "\n",
      "ponte\n",
      "\n",
      "hatable\n",
      "\n",
      "impolder\n",
      "\n",
      "soogan\n",
      "\n",
      "Fellini\n",
      "\n",
      "cambrel\n",
      "\n",
      "condrodite\n",
      "\n",
      "choy\n",
      "\n",
      "hicht\n",
      "\n",
      "wove\n",
      "\n",
      "traumatise\n",
      "\n",
      "paleing\n",
      "\n",
      "pentamerid\n",
      "\n",
      "Lithodomus\n",
      "\n",
      "cooley\n",
      "\n",
      "Xosa\n",
      "\n",
      "spitten\n",
      "\n",
      "Frenchier\n",
      "\n",
      "Tubinares\n",
      "\n",
      "romage\n",
      "\n",
      "aumbry\n",
      "\n",
      "recule\n",
      "\n",
      "trigging\n",
      "\n",
      "colliest\n",
      "\n",
      "remolade\n",
      "\n",
      "-clinia\n",
      "\n",
      "volatilise\n",
      "\n",
      "gruing\n",
      "\n",
      "unnourishing\n",
      "\n",
      "naughts-and-crosses\n",
      "\n",
      "kest\n",
      "\n",
      "octine\n",
      "\n",
      "did\n",
      "\n",
      "menyie\n",
      "\n",
      "kourbash\n",
      "\n",
      "dunum\n",
      "\n",
      "ladies'-pocket\n",
      "\n",
      "perits\n",
      "\n",
      "sinuauricular\n",
      "\n",
      "arahat\n",
      "\n",
      "Ancylocladus\n",
      "\n",
      "furm\n",
      "\n",
      "Scolopendrium\n",
      "\n",
      "lives\n",
      "\n",
      "radioscopic\n",
      "\n",
      "formy\n",
      "\n",
      "tracs\n",
      "\n",
      "70.38991069793701\n"
     ]
    }
   ],
   "source": [
    "start = time.time()\n",
    "num_rows = []\n",
    "with open(\"test_graph_items.csv\", \"w+\", encoding=\"utf-16\", newline=\"\") as f:\n",
    "    csvwriter = csv.writer(f)\n",
    "    csvwriter.writerow([\"word\", \"word_in_definition\", \"word_count\"])\n",
    "    for word in words:\n",
    "        try:\n",
    "            rows_to_write = prep_rows(word)\n",
    "            num_rows.append(len(rows_to_write))\n",
    "            csvwriter.writerows(rows_to_write)\n",
    "        except TypeError:\n",
    "            print(word)\n",
    "    \n",
    "print(time.time() - start)"
   ]
  },
  {
   "cell_type": "code",
   "execution_count": 71,
   "id": "7cf5244b",
   "metadata": {},
   "outputs": [
    {
     "name": "stdout",
     "output_type": "stream",
     "text": [
      "7.271383315733897\n"
     ]
    }
   ],
   "source": [
    "print(sum(num_rows) / len(num_rows))"
   ]
  },
  {
   "cell_type": "code",
   "execution_count": 72,
   "id": "a1b1cb9d",
   "metadata": {},
   "outputs": [
    {
     "name": "stdout",
     "output_type": "stream",
     "text": [
      "947\n"
     ]
    }
   ],
   "source": [
    "print(len(num_rows))"
   ]
  },
  {
   "cell_type": "code",
   "execution_count": null,
   "id": "03a025a0",
   "metadata": {},
   "outputs": [],
   "source": []
  }
 ],
 "metadata": {
  "kernelspec": {
   "display_name": "Python 3 (ipykernel)",
   "language": "python",
   "name": "python3"
  },
  "language_info": {
   "codemirror_mode": {
    "name": "ipython",
    "version": 3
   },
   "file_extension": ".py",
   "mimetype": "text/x-python",
   "name": "python",
   "nbconvert_exporter": "python",
   "pygments_lexer": "ipython3",
   "version": "3.10.5"
  }
 },
 "nbformat": 4,
 "nbformat_minor": 5
}
